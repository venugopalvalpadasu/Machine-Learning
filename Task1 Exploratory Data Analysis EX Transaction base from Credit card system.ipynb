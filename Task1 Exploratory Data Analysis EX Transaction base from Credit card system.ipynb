{
 "cells": [
  {
   "cell_type": "code",
   "execution_count": 4,
   "metadata": {},
   "outputs": [],
   "source": [
    "import pandas as pd\n",
    "import matplotlib.pyplot as plt"
   ]
  },
  {
   "cell_type": "markdown",
   "metadata": {},
   "source": [
    "### In order to add data into jupyter notebook we need to add data folder in specific lacation so that we can access the loaction by following method"
   ]
  },
  {
   "cell_type": "code",
   "execution_count": 12,
   "metadata": {},
   "outputs": [
    {
     "data": {
      "text/plain": [
       "'C:\\\\Users\\\\valpa'"
      ]
     },
     "execution_count": 12,
     "metadata": {},
     "output_type": "execute_result"
    }
   ],
   "source": [
    "pwd"
   ]
  },
  {
   "cell_type": "code",
   "execution_count": 14,
   "metadata": {},
   "outputs": [],
   "source": [
    "data = pd.read_csv('TransactionBase.csv')"
   ]
  },
  {
   "cell_type": "code",
   "execution_count": 20,
   "metadata": {},
   "outputs": [
    {
     "data": {
      "text/html": [
       "<div>\n",
       "<style scoped>\n",
       "    .dataframe tbody tr th:only-of-type {\n",
       "        vertical-align: middle;\n",
       "    }\n",
       "\n",
       "    .dataframe tbody tr th {\n",
       "        vertical-align: top;\n",
       "    }\n",
       "\n",
       "    .dataframe thead th {\n",
       "        text-align: right;\n",
       "    }\n",
       "</style>\n",
       "<table border=\"1\" class=\"dataframe\">\n",
       "  <thead>\n",
       "    <tr style=\"text-align: right;\">\n",
       "      <th></th>\n",
       "      <th>Transaction_ID</th>\n",
       "      <th>Transaction_Date</th>\n",
       "      <th>Credit_Card_ID</th>\n",
       "      <th>Transaction_Value</th>\n",
       "      <th>Transaction_Segment</th>\n",
       "    </tr>\n",
       "  </thead>\n",
       "  <tbody>\n",
       "    <tr>\n",
       "      <th>0</th>\n",
       "      <td>CTID28830551</td>\n",
       "      <td>24-Apr-16</td>\n",
       "      <td>1629-9566-3285-2123</td>\n",
       "      <td>23649</td>\n",
       "      <td>SEG25</td>\n",
       "    </tr>\n",
       "    <tr>\n",
       "      <th>1</th>\n",
       "      <td>CTID45504917</td>\n",
       "      <td>11-Feb-16</td>\n",
       "      <td>3697-6001-4909-5350</td>\n",
       "      <td>26726</td>\n",
       "      <td>SEG16</td>\n",
       "    </tr>\n",
       "    <tr>\n",
       "      <th>2</th>\n",
       "      <td>CTID47312290</td>\n",
       "      <td>1-Nov-16</td>\n",
       "      <td>5864-4475-3659-1440</td>\n",
       "      <td>22012</td>\n",
       "      <td>SEG14</td>\n",
       "    </tr>\n",
       "    <tr>\n",
       "      <th>3</th>\n",
       "      <td>CTID25637718</td>\n",
       "      <td>28-Jan-16</td>\n",
       "      <td>5991-4421-8476-3804</td>\n",
       "      <td>37637</td>\n",
       "      <td>SEG17</td>\n",
       "    </tr>\n",
       "    <tr>\n",
       "      <th>4</th>\n",
       "      <td>CTID66743960</td>\n",
       "      <td>17-Mar-16</td>\n",
       "      <td>1893-8853-9900-8478</td>\n",
       "      <td>5113</td>\n",
       "      <td>SEG14</td>\n",
       "    </tr>\n",
       "    <tr>\n",
       "      <th>...</th>\n",
       "      <td>...</td>\n",
       "      <td>...</td>\n",
       "      <td>...</td>\n",
       "      <td>...</td>\n",
       "      <td>...</td>\n",
       "    </tr>\n",
       "    <tr>\n",
       "      <th>9995</th>\n",
       "      <td>CTID25037573</td>\n",
       "      <td>10-Jun-16</td>\n",
       "      <td>9157-2802-8374-1145</td>\n",
       "      <td>44280</td>\n",
       "      <td>SEG18</td>\n",
       "    </tr>\n",
       "    <tr>\n",
       "      <th>9996</th>\n",
       "      <td>CTID43832298</td>\n",
       "      <td>23-May-16</td>\n",
       "      <td>7416-4529-6690-5703</td>\n",
       "      <td>27163</td>\n",
       "      <td>SEG12</td>\n",
       "    </tr>\n",
       "    <tr>\n",
       "      <th>9997</th>\n",
       "      <td>CTID56532072</td>\n",
       "      <td>6-Aug-16</td>\n",
       "      <td>6699-2639-4522-6219</td>\n",
       "      <td>36424</td>\n",
       "      <td>SEG13</td>\n",
       "    </tr>\n",
       "    <tr>\n",
       "      <th>9998</th>\n",
       "      <td>CTID88101446</td>\n",
       "      <td>10-Oct-16</td>\n",
       "      <td>8341-5263-4582-7396</td>\n",
       "      <td>8464</td>\n",
       "      <td>SEG14</td>\n",
       "    </tr>\n",
       "    <tr>\n",
       "      <th>9999</th>\n",
       "      <td>CTID64730271</td>\n",
       "      <td>18-Jun-16</td>\n",
       "      <td>1947-8602-1695-7503</td>\n",
       "      <td>7606</td>\n",
       "      <td>SEG15</td>\n",
       "    </tr>\n",
       "  </tbody>\n",
       "</table>\n",
       "<p>10000 rows × 5 columns</p>\n",
       "</div>"
      ],
      "text/plain": [
       "     Transaction_ID Transaction_Date       Credit_Card_ID  Transaction_Value  \\\n",
       "0      CTID28830551        24-Apr-16  1629-9566-3285-2123              23649   \n",
       "1      CTID45504917        11-Feb-16  3697-6001-4909-5350              26726   \n",
       "2      CTID47312290         1-Nov-16  5864-4475-3659-1440              22012   \n",
       "3      CTID25637718        28-Jan-16  5991-4421-8476-3804              37637   \n",
       "4      CTID66743960        17-Mar-16  1893-8853-9900-8478               5113   \n",
       "...             ...              ...                  ...                ...   \n",
       "9995   CTID25037573        10-Jun-16  9157-2802-8374-1145              44280   \n",
       "9996   CTID43832298        23-May-16  7416-4529-6690-5703              27163   \n",
       "9997   CTID56532072         6-Aug-16  6699-2639-4522-6219              36424   \n",
       "9998   CTID88101446        10-Oct-16  8341-5263-4582-7396               8464   \n",
       "9999   CTID64730271        18-Jun-16  1947-8602-1695-7503               7606   \n",
       "\n",
       "     Transaction_Segment  \n",
       "0                  SEG25  \n",
       "1                  SEG16  \n",
       "2                  SEG14  \n",
       "3                  SEG17  \n",
       "4                  SEG14  \n",
       "...                  ...  \n",
       "9995               SEG18  \n",
       "9996               SEG12  \n",
       "9997               SEG13  \n",
       "9998               SEG14  \n",
       "9999               SEG15  \n",
       "\n",
       "[10000 rows x 5 columns]"
      ]
     },
     "execution_count": 20,
     "metadata": {},
     "output_type": "execute_result"
    }
   ],
   "source": [
    "#we can access data once data is loaded into jupyter notebook \n",
    "data"
   ]
  },
  {
   "cell_type": "code",
   "execution_count": 16,
   "metadata": {},
   "outputs": [
    {
     "data": {
      "text/html": [
       "<div>\n",
       "<style scoped>\n",
       "    .dataframe tbody tr th:only-of-type {\n",
       "        vertical-align: middle;\n",
       "    }\n",
       "\n",
       "    .dataframe tbody tr th {\n",
       "        vertical-align: top;\n",
       "    }\n",
       "\n",
       "    .dataframe thead th {\n",
       "        text-align: right;\n",
       "    }\n",
       "</style>\n",
       "<table border=\"1\" class=\"dataframe\">\n",
       "  <thead>\n",
       "    <tr style=\"text-align: right;\">\n",
       "      <th></th>\n",
       "      <th>Transaction_ID</th>\n",
       "      <th>Transaction_Date</th>\n",
       "      <th>Credit_Card_ID</th>\n",
       "      <th>Transaction_Value</th>\n",
       "      <th>Transaction_Segment</th>\n",
       "    </tr>\n",
       "  </thead>\n",
       "  <tbody>\n",
       "    <tr>\n",
       "      <th>0</th>\n",
       "      <td>CTID28830551</td>\n",
       "      <td>24-Apr-16</td>\n",
       "      <td>1629-9566-3285-2123</td>\n",
       "      <td>23649</td>\n",
       "      <td>SEG25</td>\n",
       "    </tr>\n",
       "    <tr>\n",
       "      <th>1</th>\n",
       "      <td>CTID45504917</td>\n",
       "      <td>11-Feb-16</td>\n",
       "      <td>3697-6001-4909-5350</td>\n",
       "      <td>26726</td>\n",
       "      <td>SEG16</td>\n",
       "    </tr>\n",
       "    <tr>\n",
       "      <th>2</th>\n",
       "      <td>CTID47312290</td>\n",
       "      <td>1-Nov-16</td>\n",
       "      <td>5864-4475-3659-1440</td>\n",
       "      <td>22012</td>\n",
       "      <td>SEG14</td>\n",
       "    </tr>\n",
       "    <tr>\n",
       "      <th>3</th>\n",
       "      <td>CTID25637718</td>\n",
       "      <td>28-Jan-16</td>\n",
       "      <td>5991-4421-8476-3804</td>\n",
       "      <td>37637</td>\n",
       "      <td>SEG17</td>\n",
       "    </tr>\n",
       "    <tr>\n",
       "      <th>4</th>\n",
       "      <td>CTID66743960</td>\n",
       "      <td>17-Mar-16</td>\n",
       "      <td>1893-8853-9900-8478</td>\n",
       "      <td>5113</td>\n",
       "      <td>SEG14</td>\n",
       "    </tr>\n",
       "  </tbody>\n",
       "</table>\n",
       "</div>"
      ],
      "text/plain": [
       "  Transaction_ID Transaction_Date       Credit_Card_ID  Transaction_Value  \\\n",
       "0   CTID28830551        24-Apr-16  1629-9566-3285-2123              23649   \n",
       "1   CTID45504917        11-Feb-16  3697-6001-4909-5350              26726   \n",
       "2   CTID47312290         1-Nov-16  5864-4475-3659-1440              22012   \n",
       "3   CTID25637718        28-Jan-16  5991-4421-8476-3804              37637   \n",
       "4   CTID66743960        17-Mar-16  1893-8853-9900-8478               5113   \n",
       "\n",
       "  Transaction_Segment  \n",
       "0               SEG25  \n",
       "1               SEG16  \n",
       "2               SEG14  \n",
       "3               SEG17  \n",
       "4               SEG14  "
      ]
     },
     "execution_count": 16,
     "metadata": {},
     "output_type": "execute_result"
    }
   ],
   "source": [
    "#we can access first 5 data from data using\n",
    "data.head()"
   ]
  },
  {
   "cell_type": "code",
   "execution_count": 22,
   "metadata": {},
   "outputs": [
    {
     "data": {
      "text/html": [
       "<div>\n",
       "<style scoped>\n",
       "    .dataframe tbody tr th:only-of-type {\n",
       "        vertical-align: middle;\n",
       "    }\n",
       "\n",
       "    .dataframe tbody tr th {\n",
       "        vertical-align: top;\n",
       "    }\n",
       "\n",
       "    .dataframe thead th {\n",
       "        text-align: right;\n",
       "    }\n",
       "</style>\n",
       "<table border=\"1\" class=\"dataframe\">\n",
       "  <thead>\n",
       "    <tr style=\"text-align: right;\">\n",
       "      <th></th>\n",
       "      <th>Transaction_ID</th>\n",
       "      <th>Transaction_Date</th>\n",
       "      <th>Credit_Card_ID</th>\n",
       "      <th>Transaction_Value</th>\n",
       "      <th>Transaction_Segment</th>\n",
       "    </tr>\n",
       "  </thead>\n",
       "  <tbody>\n",
       "    <tr>\n",
       "      <th>0</th>\n",
       "      <td>CTID28830551</td>\n",
       "      <td>24-Apr-16</td>\n",
       "      <td>1629-9566-3285-2123</td>\n",
       "      <td>23649</td>\n",
       "      <td>SEG25</td>\n",
       "    </tr>\n",
       "    <tr>\n",
       "      <th>1</th>\n",
       "      <td>CTID45504917</td>\n",
       "      <td>11-Feb-16</td>\n",
       "      <td>3697-6001-4909-5350</td>\n",
       "      <td>26726</td>\n",
       "      <td>SEG16</td>\n",
       "    </tr>\n",
       "    <tr>\n",
       "      <th>2</th>\n",
       "      <td>CTID47312290</td>\n",
       "      <td>1-Nov-16</td>\n",
       "      <td>5864-4475-3659-1440</td>\n",
       "      <td>22012</td>\n",
       "      <td>SEG14</td>\n",
       "    </tr>\n",
       "    <tr>\n",
       "      <th>3</th>\n",
       "      <td>CTID25637718</td>\n",
       "      <td>28-Jan-16</td>\n",
       "      <td>5991-4421-8476-3804</td>\n",
       "      <td>37637</td>\n",
       "      <td>SEG17</td>\n",
       "    </tr>\n",
       "  </tbody>\n",
       "</table>\n",
       "</div>"
      ],
      "text/plain": [
       "  Transaction_ID Transaction_Date       Credit_Card_ID  Transaction_Value  \\\n",
       "0   CTID28830551        24-Apr-16  1629-9566-3285-2123              23649   \n",
       "1   CTID45504917        11-Feb-16  3697-6001-4909-5350              26726   \n",
       "2   CTID47312290         1-Nov-16  5864-4475-3659-1440              22012   \n",
       "3   CTID25637718        28-Jan-16  5991-4421-8476-3804              37637   \n",
       "\n",
       "  Transaction_Segment  \n",
       "0               SEG25  \n",
       "1               SEG16  \n",
       "2               SEG14  \n",
       "3               SEG17  "
      ]
     },
     "execution_count": 22,
     "metadata": {},
     "output_type": "execute_result"
    }
   ],
   "source": [
    "#we can access first 4 data from data using\n",
    "data.head(4)"
   ]
  },
  {
   "cell_type": "code",
   "execution_count": 23,
   "metadata": {},
   "outputs": [
    {
     "data": {
      "text/html": [
       "<div>\n",
       "<style scoped>\n",
       "    .dataframe tbody tr th:only-of-type {\n",
       "        vertical-align: middle;\n",
       "    }\n",
       "\n",
       "    .dataframe tbody tr th {\n",
       "        vertical-align: top;\n",
       "    }\n",
       "\n",
       "    .dataframe thead th {\n",
       "        text-align: right;\n",
       "    }\n",
       "</style>\n",
       "<table border=\"1\" class=\"dataframe\">\n",
       "  <thead>\n",
       "    <tr style=\"text-align: right;\">\n",
       "      <th></th>\n",
       "      <th>Transaction_ID</th>\n",
       "      <th>Transaction_Date</th>\n",
       "      <th>Credit_Card_ID</th>\n",
       "      <th>Transaction_Value</th>\n",
       "      <th>Transaction_Segment</th>\n",
       "    </tr>\n",
       "  </thead>\n",
       "  <tbody>\n",
       "    <tr>\n",
       "      <th>9995</th>\n",
       "      <td>CTID25037573</td>\n",
       "      <td>10-Jun-16</td>\n",
       "      <td>9157-2802-8374-1145</td>\n",
       "      <td>44280</td>\n",
       "      <td>SEG18</td>\n",
       "    </tr>\n",
       "    <tr>\n",
       "      <th>9996</th>\n",
       "      <td>CTID43832298</td>\n",
       "      <td>23-May-16</td>\n",
       "      <td>7416-4529-6690-5703</td>\n",
       "      <td>27163</td>\n",
       "      <td>SEG12</td>\n",
       "    </tr>\n",
       "    <tr>\n",
       "      <th>9997</th>\n",
       "      <td>CTID56532072</td>\n",
       "      <td>6-Aug-16</td>\n",
       "      <td>6699-2639-4522-6219</td>\n",
       "      <td>36424</td>\n",
       "      <td>SEG13</td>\n",
       "    </tr>\n",
       "    <tr>\n",
       "      <th>9998</th>\n",
       "      <td>CTID88101446</td>\n",
       "      <td>10-Oct-16</td>\n",
       "      <td>8341-5263-4582-7396</td>\n",
       "      <td>8464</td>\n",
       "      <td>SEG14</td>\n",
       "    </tr>\n",
       "    <tr>\n",
       "      <th>9999</th>\n",
       "      <td>CTID64730271</td>\n",
       "      <td>18-Jun-16</td>\n",
       "      <td>1947-8602-1695-7503</td>\n",
       "      <td>7606</td>\n",
       "      <td>SEG15</td>\n",
       "    </tr>\n",
       "  </tbody>\n",
       "</table>\n",
       "</div>"
      ],
      "text/plain": [
       "     Transaction_ID Transaction_Date       Credit_Card_ID  Transaction_Value  \\\n",
       "9995   CTID25037573        10-Jun-16  9157-2802-8374-1145              44280   \n",
       "9996   CTID43832298        23-May-16  7416-4529-6690-5703              27163   \n",
       "9997   CTID56532072         6-Aug-16  6699-2639-4522-6219              36424   \n",
       "9998   CTID88101446        10-Oct-16  8341-5263-4582-7396               8464   \n",
       "9999   CTID64730271        18-Jun-16  1947-8602-1695-7503               7606   \n",
       "\n",
       "     Transaction_Segment  \n",
       "9995               SEG18  \n",
       "9996               SEG12  \n",
       "9997               SEG13  \n",
       "9998               SEG14  \n",
       "9999               SEG15  "
      ]
     },
     "execution_count": 23,
     "metadata": {},
     "output_type": "execute_result"
    }
   ],
   "source": [
    "#we can access last 5 data from data using\n",
    "data.tail()"
   ]
  },
  {
   "cell_type": "code",
   "execution_count": 24,
   "metadata": {},
   "outputs": [
    {
     "data": {
      "text/html": [
       "<div>\n",
       "<style scoped>\n",
       "    .dataframe tbody tr th:only-of-type {\n",
       "        vertical-align: middle;\n",
       "    }\n",
       "\n",
       "    .dataframe tbody tr th {\n",
       "        vertical-align: top;\n",
       "    }\n",
       "\n",
       "    .dataframe thead th {\n",
       "        text-align: right;\n",
       "    }\n",
       "</style>\n",
       "<table border=\"1\" class=\"dataframe\">\n",
       "  <thead>\n",
       "    <tr style=\"text-align: right;\">\n",
       "      <th></th>\n",
       "      <th>Transaction_ID</th>\n",
       "      <th>Transaction_Date</th>\n",
       "      <th>Credit_Card_ID</th>\n",
       "      <th>Transaction_Value</th>\n",
       "      <th>Transaction_Segment</th>\n",
       "    </tr>\n",
       "  </thead>\n",
       "  <tbody>\n",
       "    <tr>\n",
       "      <th>9985</th>\n",
       "      <td>CTID73224556</td>\n",
       "      <td>28-Sep-16</td>\n",
       "      <td>3648-6856-2869-1255</td>\n",
       "      <td>13201</td>\n",
       "      <td>SEG16</td>\n",
       "    </tr>\n",
       "    <tr>\n",
       "      <th>9986</th>\n",
       "      <td>CTID58869563</td>\n",
       "      <td>3-May-16</td>\n",
       "      <td>7276-7349-6334-3809</td>\n",
       "      <td>35832</td>\n",
       "      <td>SEG24</td>\n",
       "    </tr>\n",
       "    <tr>\n",
       "      <th>9987</th>\n",
       "      <td>CTID92395609</td>\n",
       "      <td>4-Mar-16</td>\n",
       "      <td>9162-3465-6654-4891</td>\n",
       "      <td>28817</td>\n",
       "      <td>SEG17</td>\n",
       "    </tr>\n",
       "    <tr>\n",
       "      <th>9988</th>\n",
       "      <td>CTID71449524</td>\n",
       "      <td>8-Nov-16</td>\n",
       "      <td>4525-4818-6014-8945</td>\n",
       "      <td>3323</td>\n",
       "      <td>SEG11</td>\n",
       "    </tr>\n",
       "    <tr>\n",
       "      <th>9989</th>\n",
       "      <td>CTID35174447</td>\n",
       "      <td>3-Nov-16</td>\n",
       "      <td>5296-2987-4365-6870</td>\n",
       "      <td>19736</td>\n",
       "      <td>SEG14</td>\n",
       "    </tr>\n",
       "    <tr>\n",
       "      <th>9990</th>\n",
       "      <td>CTID29938593</td>\n",
       "      <td>18-Sep-16</td>\n",
       "      <td>5960-5753-3689-8262</td>\n",
       "      <td>28993</td>\n",
       "      <td>SEG13</td>\n",
       "    </tr>\n",
       "    <tr>\n",
       "      <th>9991</th>\n",
       "      <td>CTID31373737</td>\n",
       "      <td>18-Jun-16</td>\n",
       "      <td>4144-3271-6301-9342</td>\n",
       "      <td>11606</td>\n",
       "      <td>SEG22</td>\n",
       "    </tr>\n",
       "    <tr>\n",
       "      <th>9992</th>\n",
       "      <td>CTID78966732</td>\n",
       "      <td>6-Apr-16</td>\n",
       "      <td>9391-7086-9113-4893</td>\n",
       "      <td>5018</td>\n",
       "      <td>SEG23</td>\n",
       "    </tr>\n",
       "    <tr>\n",
       "      <th>9993</th>\n",
       "      <td>CTID49517337</td>\n",
       "      <td>30-Sep-16</td>\n",
       "      <td>9604-6821-2861-8084</td>\n",
       "      <td>35688</td>\n",
       "      <td>SEG24</td>\n",
       "    </tr>\n",
       "    <tr>\n",
       "      <th>9994</th>\n",
       "      <td>CTID24549616</td>\n",
       "      <td>5-Nov-16</td>\n",
       "      <td>4427-5380-8182-9668</td>\n",
       "      <td>18126</td>\n",
       "      <td>SEG18</td>\n",
       "    </tr>\n",
       "    <tr>\n",
       "      <th>9995</th>\n",
       "      <td>CTID25037573</td>\n",
       "      <td>10-Jun-16</td>\n",
       "      <td>9157-2802-8374-1145</td>\n",
       "      <td>44280</td>\n",
       "      <td>SEG18</td>\n",
       "    </tr>\n",
       "    <tr>\n",
       "      <th>9996</th>\n",
       "      <td>CTID43832298</td>\n",
       "      <td>23-May-16</td>\n",
       "      <td>7416-4529-6690-5703</td>\n",
       "      <td>27163</td>\n",
       "      <td>SEG12</td>\n",
       "    </tr>\n",
       "    <tr>\n",
       "      <th>9997</th>\n",
       "      <td>CTID56532072</td>\n",
       "      <td>6-Aug-16</td>\n",
       "      <td>6699-2639-4522-6219</td>\n",
       "      <td>36424</td>\n",
       "      <td>SEG13</td>\n",
       "    </tr>\n",
       "    <tr>\n",
       "      <th>9998</th>\n",
       "      <td>CTID88101446</td>\n",
       "      <td>10-Oct-16</td>\n",
       "      <td>8341-5263-4582-7396</td>\n",
       "      <td>8464</td>\n",
       "      <td>SEG14</td>\n",
       "    </tr>\n",
       "    <tr>\n",
       "      <th>9999</th>\n",
       "      <td>CTID64730271</td>\n",
       "      <td>18-Jun-16</td>\n",
       "      <td>1947-8602-1695-7503</td>\n",
       "      <td>7606</td>\n",
       "      <td>SEG15</td>\n",
       "    </tr>\n",
       "  </tbody>\n",
       "</table>\n",
       "</div>"
      ],
      "text/plain": [
       "     Transaction_ID Transaction_Date       Credit_Card_ID  Transaction_Value  \\\n",
       "9985   CTID73224556        28-Sep-16  3648-6856-2869-1255              13201   \n",
       "9986   CTID58869563         3-May-16  7276-7349-6334-3809              35832   \n",
       "9987   CTID92395609         4-Mar-16  9162-3465-6654-4891              28817   \n",
       "9988   CTID71449524         8-Nov-16  4525-4818-6014-8945               3323   \n",
       "9989   CTID35174447         3-Nov-16  5296-2987-4365-6870              19736   \n",
       "9990   CTID29938593        18-Sep-16  5960-5753-3689-8262              28993   \n",
       "9991   CTID31373737        18-Jun-16  4144-3271-6301-9342              11606   \n",
       "9992   CTID78966732         6-Apr-16  9391-7086-9113-4893               5018   \n",
       "9993   CTID49517337        30-Sep-16  9604-6821-2861-8084              35688   \n",
       "9994   CTID24549616         5-Nov-16  4427-5380-8182-9668              18126   \n",
       "9995   CTID25037573        10-Jun-16  9157-2802-8374-1145              44280   \n",
       "9996   CTID43832298        23-May-16  7416-4529-6690-5703              27163   \n",
       "9997   CTID56532072         6-Aug-16  6699-2639-4522-6219              36424   \n",
       "9998   CTID88101446        10-Oct-16  8341-5263-4582-7396               8464   \n",
       "9999   CTID64730271        18-Jun-16  1947-8602-1695-7503               7606   \n",
       "\n",
       "     Transaction_Segment  \n",
       "9985               SEG16  \n",
       "9986               SEG24  \n",
       "9987               SEG17  \n",
       "9988               SEG11  \n",
       "9989               SEG14  \n",
       "9990               SEG13  \n",
       "9991               SEG22  \n",
       "9992               SEG23  \n",
       "9993               SEG24  \n",
       "9994               SEG18  \n",
       "9995               SEG18  \n",
       "9996               SEG12  \n",
       "9997               SEG13  \n",
       "9998               SEG14  \n",
       "9999               SEG15  "
      ]
     },
     "execution_count": 24,
     "metadata": {},
     "output_type": "execute_result"
    }
   ],
   "source": [
    "#we can access last 15 data from data using\n",
    "data.tail(15)"
   ]
  },
  {
   "cell_type": "markdown",
   "metadata": {},
   "source": [
    "### In stastical information is categorical data so, we get mean,min value max value and standard deviation etc so in my given data set we have 1000 rows and 5 columns."
   ]
  },
  {
   "cell_type": "code",
   "execution_count": 25,
   "metadata": {
    "scrolled": true
   },
   "outputs": [
    {
     "data": {
      "text/html": [
       "<div>\n",
       "<style scoped>\n",
       "    .dataframe tbody tr th:only-of-type {\n",
       "        vertical-align: middle;\n",
       "    }\n",
       "\n",
       "    .dataframe tbody tr th {\n",
       "        vertical-align: top;\n",
       "    }\n",
       "\n",
       "    .dataframe thead th {\n",
       "        text-align: right;\n",
       "    }\n",
       "</style>\n",
       "<table border=\"1\" class=\"dataframe\">\n",
       "  <thead>\n",
       "    <tr style=\"text-align: right;\">\n",
       "      <th></th>\n",
       "      <th>Transaction_Value</th>\n",
       "    </tr>\n",
       "  </thead>\n",
       "  <tbody>\n",
       "    <tr>\n",
       "      <th>count</th>\n",
       "      <td>10000.000000</td>\n",
       "    </tr>\n",
       "    <tr>\n",
       "      <th>mean</th>\n",
       "      <td>24758.741300</td>\n",
       "    </tr>\n",
       "    <tr>\n",
       "      <th>std</th>\n",
       "      <td>14371.088758</td>\n",
       "    </tr>\n",
       "    <tr>\n",
       "      <th>min</th>\n",
       "      <td>103.000000</td>\n",
       "    </tr>\n",
       "    <tr>\n",
       "      <th>25%</th>\n",
       "      <td>12317.500000</td>\n",
       "    </tr>\n",
       "    <tr>\n",
       "      <th>50%</th>\n",
       "      <td>24720.500000</td>\n",
       "    </tr>\n",
       "    <tr>\n",
       "      <th>75%</th>\n",
       "      <td>37036.250000</td>\n",
       "    </tr>\n",
       "    <tr>\n",
       "      <th>max</th>\n",
       "      <td>49995.000000</td>\n",
       "    </tr>\n",
       "  </tbody>\n",
       "</table>\n",
       "</div>"
      ],
      "text/plain": [
       "       Transaction_Value\n",
       "count       10000.000000\n",
       "mean        24758.741300\n",
       "std         14371.088758\n",
       "min           103.000000\n",
       "25%         12317.500000\n",
       "50%         24720.500000\n",
       "75%         37036.250000\n",
       "max         49995.000000"
      ]
     },
     "execution_count": 25,
     "metadata": {},
     "output_type": "execute_result"
    }
   ],
   "source": [
    "## Statistical information\n",
    "data.describe()"
   ]
  },
  {
   "cell_type": "markdown",
   "metadata": {},
   "source": [
    "### To get Null values in each column here,we use data.isnull().sum()"
   ]
  },
  {
   "cell_type": "code",
   "execution_count": 26,
   "metadata": {
    "scrolled": true
   },
   "outputs": [
    {
     "data": {
      "text/plain": [
       "Transaction_ID         0\n",
       "Transaction_Date       0\n",
       "Credit_Card_ID         0\n",
       "Transaction_Value      0\n",
       "Transaction_Segment    0\n",
       "dtype: int64"
      ]
     },
     "execution_count": 26,
     "metadata": {},
     "output_type": "execute_result"
    }
   ],
   "source": [
    "## Total null values in each column\n",
    "data.isnull().sum()"
   ]
  },
  {
   "cell_type": "markdown",
   "metadata": {},
   "source": [
    "### So here in column values we get types of coloumns used in different data sets."
   ]
  },
  {
   "cell_type": "code",
   "execution_count": 27,
   "metadata": {
    "scrolled": true
   },
   "outputs": [
    {
     "data": {
      "text/plain": [
       "Index(['Transaction_ID', 'Transaction_Date', 'Credit_Card_ID',\n",
       "       'Transaction_Value', 'Transaction_Segment'],\n",
       "      dtype='object')"
      ]
     },
     "execution_count": 27,
     "metadata": {},
     "output_type": "execute_result"
    }
   ],
   "source": [
    "## Column values\n",
    "data.columns\n"
   ]
  },
  {
   "cell_type": "markdown",
   "metadata": {},
   "source": [
    "### In individual column categories we get different values in a specific data type\n",
    "### also dtype=int64 indiactes data type integer and 64 BYTES"
   ]
  },
  {
   "cell_type": "code",
   "execution_count": 30,
   "metadata": {},
   "outputs": [
    {
     "data": {
      "text/plain": [
       "array([23649, 26726, 22012, ..., 36424,  8464,  7606], dtype=int64)"
      ]
     },
     "execution_count": 30,
     "metadata": {},
     "output_type": "execute_result"
    }
   ],
   "source": [
    "## Individual column categories\n",
    "data['Transaction_Value'].unique()"
   ]
  },
  {
   "cell_type": "code",
   "execution_count": 31,
   "metadata": {
    "scrolled": true
   },
   "outputs": [
    {
     "data": {
      "text/plain": [
       "array(['24-Apr-16', '11-Feb-16', '1-Nov-16', '28-Jan-16', '17-Mar-16',\n",
       "       '15-May-16', '11-Jul-16', '26-Jul-16', '16-Jan-16', '6-Nov-16',\n",
       "       '25-Oct-16', '30-Apr-16', '31-Jul-16', '20-Nov-16', '3-Nov-16',\n",
       "       '27-Dec-16', '1-Dec-16', '5-Jun-16', '2-Jul-16', '31-Oct-16',\n",
       "       '31-May-16', '7-Jul-16', '16-Apr-16', '4-Mar-16', '6-Jun-16',\n",
       "       '29-Aug-16', '26-Apr-16', '28-Dec-16', '16-Mar-16', '21-Feb-16',\n",
       "       '27-Feb-16', '25-Aug-16', '18-Aug-16', '26-May-16', '4-Feb-16',\n",
       "       '25-Nov-16', '26-Jun-16', '5-Mar-16', '8-Apr-16', '18-Mar-16',\n",
       "       '15-Dec-16', '27-Sep-16', '17-Sep-16', '15-Jan-16', '25-Apr-16',\n",
       "       '12-Apr-16', '10-Feb-16', '17-Jul-16', '2-Jan-16', '29-Feb-16',\n",
       "       '26-Oct-16', '12-Mar-16', '23-Jul-16', '5-Dec-16', '3-Apr-16',\n",
       "       '8-Oct-16', '15-Jun-16', '21-Sep-16', '23-Aug-16', '10-Mar-16',\n",
       "       '26-Jan-16', '15-Nov-16', '16-Feb-16', '17-Nov-16', '5-Apr-16',\n",
       "       '25-May-16', '29-May-16', '13-Jan-16', '24-Oct-16', '24-Feb-16',\n",
       "       '13-Nov-16', '13-Mar-16', '7-Apr-16', '4-Jan-16', '2-May-16',\n",
       "       '29-Jun-16', '20-Aug-16', '1-May-16', '29-Sep-16', '20-Dec-16',\n",
       "       '1-Feb-16', '6-Jul-16', '14-Mar-16', '22-Jun-16', '22-Feb-16',\n",
       "       '19-Sep-16', '22-May-16', '3-Mar-16', '19-Mar-16', '19-Jun-16',\n",
       "       '2-Sep-16', '4-May-16', '6-May-16', '7-Feb-16', '17-Oct-16',\n",
       "       '28-Oct-16', '11-Dec-16', '16-May-16', '29-Mar-16', '16-Jul-16',\n",
       "       '6-Mar-16', '4-Dec-16', '25-Dec-16', '18-Jun-16', '10-Apr-16',\n",
       "       '21-Mar-16', '17-May-16', '23-Apr-16', '16-Aug-16', '14-Feb-16',\n",
       "       '8-Nov-16', '13-Jun-16', '9-Jun-16', '12-Nov-16', '28-Feb-16',\n",
       "       '26-Feb-16', '21-Dec-16', '15-Feb-16', '21-Jan-16', '5-Aug-16',\n",
       "       '7-Mar-16', '6-Aug-16', '8-Sep-16', '24-Jun-16', '18-Apr-16',\n",
       "       '14-Jul-16', '14-Aug-16', '13-Jul-16', '29-Jul-16', '6-Feb-16',\n",
       "       '18-Oct-16', '31-Dec-16', '4-Jul-16', '7-Jan-16', '31-Aug-16',\n",
       "       '25-Jan-16', '10-Sep-16', '24-Sep-16', '15-Aug-16', '19-Jul-16',\n",
       "       '5-Jul-16', '18-May-16', '23-Oct-16', '14-Nov-16', '2-Jun-16',\n",
       "       '4-Apr-16', '9-Jan-16', '31-Mar-16', '25-Sep-16', '12-Jun-16',\n",
       "       '19-Oct-16', '8-May-16', '23-Mar-16', '30-May-16', '8-Jan-16',\n",
       "       '15-Oct-16', '1-Oct-16', '2-Oct-16', '17-Dec-16', '20-Mar-16',\n",
       "       '10-Jul-16', '10-Oct-16', '13-Sep-16', '14-May-16', '24-May-16',\n",
       "       '25-Mar-16', '20-Sep-16', '10-Nov-16', '9-Oct-16', '10-Jan-16',\n",
       "       '2-Nov-16', '29-Nov-16', '8-Aug-16', '2-Aug-16', '26-Aug-16',\n",
       "       '30-Jan-16', '3-Jun-16', '7-Oct-16', '12-Jan-16', '5-Nov-16',\n",
       "       '21-May-16', '24-Nov-16', '28-Apr-16', '24-Jul-16', '13-May-16',\n",
       "       '30-Nov-16', '3-Aug-16', '30-Dec-16', '11-Jun-16', '3-Jul-16',\n",
       "       '9-Apr-16', '28-May-16', '9-May-16', '27-May-16', '6-Jan-16',\n",
       "       '22-Mar-16', '1-Mar-16', '20-Feb-16', '13-Feb-16', '14-Dec-16',\n",
       "       '14-Jun-16', '7-Nov-16', '4-Jun-16', '9-Sep-16', '15-Mar-16',\n",
       "       '6-Sep-16', '20-Jun-16', '3-Feb-16', '4-Sep-16', '25-Jul-16',\n",
       "       '9-Nov-16', '10-Dec-16', '13-Oct-16', '8-Jun-16', '27-Jun-16',\n",
       "       '30-Mar-16', '19-Aug-16', '18-Nov-16', '24-Dec-16', '17-Aug-16',\n",
       "       '24-Aug-16', '28-Sep-16', '5-Feb-16', '28-Jun-16', '30-Aug-16',\n",
       "       '3-Jan-16', '30-Oct-16', '15-Jul-16', '22-Apr-16', '18-Sep-16',\n",
       "       '23-Sep-16', '21-Oct-16', '20-May-16', '14-Oct-16', '29-Oct-16',\n",
       "       '13-Dec-16', '1-Apr-16', '15-Sep-16', '19-Nov-16', '14-Apr-16',\n",
       "       '25-Feb-16', '27-Aug-16', '20-Oct-16', '25-Jun-16', '8-Jul-16',\n",
       "       '16-Dec-16', '22-Sep-16', '12-Dec-16', '24-Mar-16', '11-Aug-16',\n",
       "       '13-Aug-16', '28-Aug-16', '21-Jun-16', '27-Nov-16', '27-Apr-16',\n",
       "       '18-Jul-16', '11-Jan-16', '12-Feb-16', '5-Jan-16', '8-Mar-16',\n",
       "       '21-Nov-16', '10-Jun-16', '11-Nov-16', '13-Apr-16', '14-Sep-16',\n",
       "       '12-Sep-16', '7-May-16', '12-Oct-16', '3-Dec-16', '19-Dec-16',\n",
       "       '14-Jan-16', '28-Jul-16', '8-Feb-16', '22-Nov-16', '16-Jun-16',\n",
       "       '16-Sep-16', '31-Jan-16', '20-Apr-16', '29-Jan-16', '26-Sep-16',\n",
       "       '7-Aug-16', '4-Aug-16', '9-Dec-16', '5-May-16', '19-Apr-16',\n",
       "       '22-Aug-16', '18-Jan-16', '5-Oct-16', '17-Jan-16', '28-Mar-16',\n",
       "       '16-Nov-16', '11-May-16', '5-Sep-16', '1-Sep-16', '27-Oct-16',\n",
       "       '27-Mar-16', '12-Jul-16', '6-Oct-16', '24-Jan-16', '2-Mar-16',\n",
       "       '11-Sep-16', '2-Feb-16', '18-Feb-16', '20-Jan-16', '2-Apr-16',\n",
       "       '9-Mar-16', '23-Nov-16', '1-Jan-16', '12-May-16', '6-Apr-16',\n",
       "       '3-Sep-16', '1-Jul-16', '4-Nov-16', '7-Sep-16', '26-Nov-16',\n",
       "       '30-Jun-16', '19-Feb-16', '22-Oct-16', '19-Jan-16', '8-Dec-16',\n",
       "       '21-Jul-16', '15-Apr-16', '7-Dec-16', '23-May-16', '21-Apr-16',\n",
       "       '29-Apr-16', '4-Oct-16', '21-Aug-16', '7-Jun-16', '1-Aug-16',\n",
       "       '12-Aug-16', '16-Oct-16', '30-Sep-16', '6-Dec-16', '23-Jan-16',\n",
       "       '29-Dec-16', '23-Jun-16', '27-Jan-16', '22-Dec-16', '11-Oct-16',\n",
       "       '26-Dec-16', '22-Jan-16', '23-Dec-16', '22-Jul-16', '18-Dec-16',\n",
       "       '1-Jun-16', '19-May-16', '10-Aug-16', '2-Dec-16', '20-Jul-16',\n",
       "       '17-Jun-16', '23-Feb-16', '9-Feb-16', '10-May-16', '28-Nov-16',\n",
       "       '27-Jul-16', '17-Apr-16', '30-Jul-16', '17-Feb-16', '9-Aug-16',\n",
       "       '3-Oct-16', '3-May-16', '11-Apr-16', '11-Mar-16', '26-Mar-16',\n",
       "       '9-Jul-16'], dtype=object)"
      ]
     },
     "execution_count": 31,
     "metadata": {},
     "output_type": "execute_result"
    }
   ],
   "source": [
    "data['Transaction_Date'].unique()"
   ]
  },
  {
   "cell_type": "code",
   "execution_count": 33,
   "metadata": {
    "scrolled": true
   },
   "outputs": [
    {
     "data": {
      "text/plain": [
       "array(['SEG25', 'SEG16', 'SEG14', 'SEG17', 'SEG13', 'SEG21', 'SEG18',\n",
       "       'SEG12', 'SEG22', 'SEG19', 'SEG23', 'SEG11', 'SEG24', 'SEG20',\n",
       "       'SEG15'], dtype=object)"
      ]
     },
     "execution_count": 33,
     "metadata": {},
     "output_type": "execute_result"
    }
   ],
   "source": [
    "data['Transaction_Segment'].unique()"
   ]
  },
  {
   "cell_type": "markdown",
   "metadata": {},
   "source": [
    "### In number of unique values we get different unique values in each coloumn"
   ]
  },
  {
   "cell_type": "code",
   "execution_count": 32,
   "metadata": {},
   "outputs": [
    {
     "data": {
      "text/plain": [
       "Transaction_ID         10000\n",
       "Transaction_Date         366\n",
       "Credit_Card_ID           500\n",
       "Transaction_Value       9035\n",
       "Transaction_Segment       15\n",
       "dtype: int64"
      ]
     },
     "execution_count": 32,
     "metadata": {},
     "output_type": "execute_result"
    }
   ],
   "source": [
    "## Number of unique values\n",
    "data.nunique()"
   ]
  },
  {
   "cell_type": "markdown",
   "metadata": {},
   "source": [
    "### In data correlation we get correlation between the data values only we can have {-1,0,1} based on given data. so here only one column \"Transaction_Value\" value has categorical data and values corresponding to that we have correlation value: 1.0"
   ]
  },
  {
   "cell_type": "code",
   "execution_count": 34,
   "metadata": {
    "scrolled": true
   },
   "outputs": [
    {
     "data": {
      "text/html": [
       "<div>\n",
       "<style scoped>\n",
       "    .dataframe tbody tr th:only-of-type {\n",
       "        vertical-align: middle;\n",
       "    }\n",
       "\n",
       "    .dataframe tbody tr th {\n",
       "        vertical-align: top;\n",
       "    }\n",
       "\n",
       "    .dataframe thead th {\n",
       "        text-align: right;\n",
       "    }\n",
       "</style>\n",
       "<table border=\"1\" class=\"dataframe\">\n",
       "  <thead>\n",
       "    <tr style=\"text-align: right;\">\n",
       "      <th></th>\n",
       "      <th>Transaction_Value</th>\n",
       "    </tr>\n",
       "  </thead>\n",
       "  <tbody>\n",
       "    <tr>\n",
       "      <th>Transaction_Value</th>\n",
       "      <td>1.0</td>\n",
       "    </tr>\n",
       "  </tbody>\n",
       "</table>\n",
       "</div>"
      ],
      "text/plain": [
       "                   Transaction_Value\n",
       "Transaction_Value                1.0"
      ]
     },
     "execution_count": 34,
     "metadata": {},
     "output_type": "execute_result"
    }
   ],
   "source": [
    "## correlation coefficient\n",
    "data.corr()"
   ]
  },
  {
   "cell_type": "markdown",
   "metadata": {},
   "source": [
    "### In Duplicates we can find out duplicate values in data set by True and false and we can find type of data set:boolean"
   ]
  },
  {
   "cell_type": "code",
   "execution_count": 35,
   "metadata": {},
   "outputs": [
    {
     "data": {
      "text/plain": [
       "0       False\n",
       "1       False\n",
       "2       False\n",
       "3       False\n",
       "4       False\n",
       "        ...  \n",
       "9995    False\n",
       "9996    False\n",
       "9997    False\n",
       "9998    False\n",
       "9999    False\n",
       "Length: 10000, dtype: bool"
      ]
     },
     "execution_count": 35,
     "metadata": {},
     "output_type": "execute_result"
    }
   ],
   "source": [
    "## Duplicates\n",
    "data.duplicated()"
   ]
  },
  {
   "cell_type": "markdown",
   "metadata": {},
   "source": [
    "### Visualizations"
   ]
  },
  {
   "cell_type": "markdown",
   "metadata": {},
   "source": [
    "### In scatter plots we need to have 2 categorical data in data set but in our given data we dont have 2 categorical data so we cant find scatter plot by using this data"
   ]
  },
  {
   "cell_type": "code",
   "execution_count": 38,
   "metadata": {},
   "outputs": [
    {
     "ename": "TypeError",
     "evalue": "scatter() missing 1 required positional argument: 'y'",
     "output_type": "error",
     "traceback": [
      "\u001b[1;31m---------------------------------------------------------------------------\u001b[0m",
      "\u001b[1;31mTypeError\u001b[0m                                 Traceback (most recent call last)",
      "\u001b[1;32m<ipython-input-38-570886b8c2df>\u001b[0m in \u001b[0;36m<module>\u001b[1;34m\u001b[0m\n\u001b[0;32m      1\u001b[0m \u001b[1;31m## Scatter Plot\u001b[0m\u001b[1;33m\u001b[0m\u001b[1;33m\u001b[0m\u001b[1;33m\u001b[0m\u001b[0m\n\u001b[1;32m----> 2\u001b[1;33m \u001b[0mplt\u001b[0m\u001b[1;33m.\u001b[0m\u001b[0mscatter\u001b[0m\u001b[1;33m(\u001b[0m\u001b[0mdata\u001b[0m\u001b[1;33m[\u001b[0m\u001b[1;34m'Transaction_Date'\u001b[0m\u001b[1;33m]\u001b[0m\u001b[1;33m)\u001b[0m\u001b[1;33m\u001b[0m\u001b[1;33m\u001b[0m\u001b[0m\n\u001b[0m",
      "\u001b[1;31mTypeError\u001b[0m: scatter() missing 1 required positional argument: 'y'"
     ]
    }
   ],
   "source": [
    "## Scatter Plot\n",
    "plt.scatter(data['Transaction_Date'])"
   ]
  },
  {
   "cell_type": "code",
   "execution_count": 41,
   "metadata": {},
   "outputs": [
    {
     "data": {
      "text/plain": [
       "(array([1013., 1037., 1035.,  993.,  992., 1017.,  986., 1040.,  915.,\n",
       "         972.]),\n",
       " array([  103. ,  5092.2, 10081.4, 15070.6, 20059.8, 25049. , 30038.2,\n",
       "        35027.4, 40016.6, 45005.8, 49995. ]),\n",
       " <BarContainer object of 10 artists>)"
      ]
     },
     "execution_count": 41,
     "metadata": {},
     "output_type": "execute_result"
    },
    {
     "data": {
      "image/png": "[encoded data removed]",
      "text/plain": [
       "<Figure size 432x288 with 1 Axes>"
      ]
     },
     "metadata": {
      "needs_background": "light"
     },
     "output_type": "display_data"
    }
   ],
   "source": [
    "## Histogram\n",
    "plt.hist(data['Transaction_Value'],bins=10)"
   ]
  },
  {
   "cell_type": "code",
   "execution_count": 42,
   "metadata": {},
   "outputs": [
    {
     "data": {
      "text/plain": [
       "{'whiskers': [<matplotlib.lines.Line2D at 0xf7e3868>,\n",
       "  <matplotlib.lines.Line2D at 0xf7e3a18>],\n",
       " 'caps': [<matplotlib.lines.Line2D at 0xf7e3bc8>,\n",
       "  <matplotlib.lines.Line2D at 0xf7e3d78>],\n",
       " 'boxes': [<matplotlib.lines.Line2D at 0xf7e36b8>],\n",
       " 'medians': [<matplotlib.lines.Line2D at 0xf7e3f28>],\n",
       " 'fliers': [<matplotlib.lines.Line2D at 0xf6f4100>],\n",
       " 'means': []}"
      ]
     },
     "execution_count": 42,
     "metadata": {},
     "output_type": "execute_result"
    },
    {
     "data": {
      "image/png": "[encoded data removed]",
      "text/plain": [
       "<Figure size 432x288 with 1 Axes>"
      ]
     },
     "metadata": {
      "needs_background": "light"
     },
     "output_type": "display_data"
    }
   ],
   "source": [
    "## Boxplot\n",
    "plt.boxplot(data['Transaction_Value'])"
   ]
  },
  {
   "cell_type": "code",
   "execution_count": null,
   "metadata": {},
   "outputs": [],
   "source": []
  }
 ],
 "metadata": {
  "kernelspec": {
   "display_name": "Python 3",
   "language": "python",
   "name": "python3"
  },
  "language_info": {
   "codemirror_mode": {
    "name": "ipython",
    "version": 3
   },
   "file_extension": ".py",
   "mimetype": "text/x-python",
   "name": "python",
   "nbconvert_exporter": "python",
   "pygments_lexer": "ipython3",
   "version": "3.8.5"
  }
 },
 "nbformat": 4,
 "nbformat_minor": 4
}
