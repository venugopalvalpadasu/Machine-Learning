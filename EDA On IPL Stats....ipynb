{
 "cells": [
  {
   "cell_type": "markdown",
   "metadata": {},
   "source": [
    "### Import required libraries to perform Basic EDA"
   ]
  },
  {
   "cell_type": "code",
   "execution_count": 39,
   "metadata": {},
   "outputs": [],
   "source": [
    "import pandas as pd\n",
    "import matplotlib.pyplot as plt"
   ]
  },
  {
   "cell_type": "markdown",
   "metadata": {},
   "source": [
    "### To Read the data"
   ]
  },
  {
   "cell_type": "code",
   "execution_count": 8,
   "metadata": {},
   "outputs": [],
   "source": [
    "data = pd.read_csv('match_data.csv')"
   ]
  },
  {
   "cell_type": "markdown",
   "metadata": {},
   "source": [
    "### To Read first 5  values in a dataset we use 'Head' and last 5 data sets we use 'Tail'\n",
    "#### Here bydefault values is set to 5"
   ]
  },
  {
   "cell_type": "code",
   "execution_count": 9,
   "metadata": {},
   "outputs": [
    {
     "data": {
      "text/html": [
       "<div>\n",
       "<style scoped>\n",
       "    .dataframe tbody tr th:only-of-type {\n",
       "        vertical-align: middle;\n",
       "    }\n",
       "\n",
       "    .dataframe tbody tr th {\n",
       "        vertical-align: top;\n",
       "    }\n",
       "\n",
       "    .dataframe thead th {\n",
       "        text-align: right;\n",
       "    }\n",
       "</style>\n",
       "<table border=\"1\" class=\"dataframe\">\n",
       "  <thead>\n",
       "    <tr style=\"text-align: right;\">\n",
       "      <th></th>\n",
       "      <th>id</th>\n",
       "      <th>season</th>\n",
       "      <th>city</th>\n",
       "      <th>date</th>\n",
       "      <th>team1</th>\n",
       "      <th>team2</th>\n",
       "      <th>toss_winner</th>\n",
       "      <th>toss_decision</th>\n",
       "      <th>winner</th>\n",
       "      <th>eliminator</th>\n",
       "      <th>...</th>\n",
       "      <th>overs</th>\n",
       "      <th>player_of_match</th>\n",
       "      <th>venue</th>\n",
       "      <th>umpire1</th>\n",
       "      <th>umpire2</th>\n",
       "      <th>umpire3</th>\n",
       "      <th>first_bat_team</th>\n",
       "      <th>first_bowl_team</th>\n",
       "      <th>first_bat_score</th>\n",
       "      <th>second_bat_score</th>\n",
       "    </tr>\n",
       "  </thead>\n",
       "  <tbody>\n",
       "    <tr>\n",
       "      <th>0</th>\n",
       "      <td>419164</td>\n",
       "      <td>2010</td>\n",
       "      <td>Mumbai</td>\n",
       "      <td>2010-04-24</td>\n",
       "      <td>Royal Challengers Bangalore</td>\n",
       "      <td>Deccan Chargers</td>\n",
       "      <td>Deccan Chargers</td>\n",
       "      <td>bat</td>\n",
       "      <td>Royal Challengers Bangalore</td>\n",
       "      <td>NaN</td>\n",
       "      <td>...</td>\n",
       "      <td>20</td>\n",
       "      <td>A Kumble</td>\n",
       "      <td>Dr DY Patil Sports Academy</td>\n",
       "      <td>RE Koertzen</td>\n",
       "      <td>SJA Taufel</td>\n",
       "      <td>NaN</td>\n",
       "      <td>Deccan Chargers</td>\n",
       "      <td>Royal Challengers Bangalore</td>\n",
       "      <td>82.0</td>\n",
       "      <td>86.0</td>\n",
       "    </tr>\n",
       "    <tr>\n",
       "      <th>1</th>\n",
       "      <td>419131</td>\n",
       "      <td>2010</td>\n",
       "      <td>Delhi</td>\n",
       "      <td>2010-03-29</td>\n",
       "      <td>Delhi Daredevils</td>\n",
       "      <td>Kolkata Knight Riders</td>\n",
       "      <td>Delhi Daredevils</td>\n",
       "      <td>bat</td>\n",
       "      <td>Delhi Daredevils</td>\n",
       "      <td>NaN</td>\n",
       "      <td>...</td>\n",
       "      <td>20</td>\n",
       "      <td>DA Warner</td>\n",
       "      <td>Feroz Shah Kotla</td>\n",
       "      <td>SS Hazare</td>\n",
       "      <td>SJA Taufel</td>\n",
       "      <td>NaN</td>\n",
       "      <td>Delhi Daredevils</td>\n",
       "      <td>Kolkata Knight Riders</td>\n",
       "      <td>177.0</td>\n",
       "      <td>137.0</td>\n",
       "    </tr>\n",
       "    <tr>\n",
       "      <th>2</th>\n",
       "      <td>336021</td>\n",
       "      <td>2008</td>\n",
       "      <td>Mumbai</td>\n",
       "      <td>2008-05-16</td>\n",
       "      <td>Mumbai Indians</td>\n",
       "      <td>Kolkata Knight Riders</td>\n",
       "      <td>Mumbai Indians</td>\n",
       "      <td>field</td>\n",
       "      <td>Mumbai Indians</td>\n",
       "      <td>NaN</td>\n",
       "      <td>...</td>\n",
       "      <td>20</td>\n",
       "      <td>SM Pollock</td>\n",
       "      <td>Wankhede Stadium</td>\n",
       "      <td>BR Doctrove</td>\n",
       "      <td>DJ Harper</td>\n",
       "      <td>NaN</td>\n",
       "      <td>Kolkata Knight Riders</td>\n",
       "      <td>Mumbai Indians</td>\n",
       "      <td>67.0</td>\n",
       "      <td>68.0</td>\n",
       "    </tr>\n",
       "    <tr>\n",
       "      <th>3</th>\n",
       "      <td>980931</td>\n",
       "      <td>2016</td>\n",
       "      <td>Pune</td>\n",
       "      <td>2016-04-22</td>\n",
       "      <td>Rising Pune Supergiants</td>\n",
       "      <td>Royal Challengers Bangalore</td>\n",
       "      <td>Rising Pune Supergiants</td>\n",
       "      <td>field</td>\n",
       "      <td>Royal Challengers Bangalore</td>\n",
       "      <td>NaN</td>\n",
       "      <td>...</td>\n",
       "      <td>20</td>\n",
       "      <td>AB de Villiers</td>\n",
       "      <td>Maharashtra Cricket Association Stadium</td>\n",
       "      <td>CB Gaffaney</td>\n",
       "      <td>VK Sharma</td>\n",
       "      <td>NaN</td>\n",
       "      <td>Royal Challengers Bangalore</td>\n",
       "      <td>Rising Pune Supergiants</td>\n",
       "      <td>185.0</td>\n",
       "      <td>172.0</td>\n",
       "    </tr>\n",
       "    <tr>\n",
       "      <th>4</th>\n",
       "      <td>419163</td>\n",
       "      <td>2010</td>\n",
       "      <td>Mumbai</td>\n",
       "      <td>2010-04-22</td>\n",
       "      <td>Chennai Super Kings</td>\n",
       "      <td>Deccan Chargers</td>\n",
       "      <td>Chennai Super Kings</td>\n",
       "      <td>bat</td>\n",
       "      <td>Chennai Super Kings</td>\n",
       "      <td>NaN</td>\n",
       "      <td>...</td>\n",
       "      <td>20</td>\n",
       "      <td>DE Bollinger</td>\n",
       "      <td>Dr DY Patil Sports Academy</td>\n",
       "      <td>BR Doctrove</td>\n",
       "      <td>RB Tiffin</td>\n",
       "      <td>NaN</td>\n",
       "      <td>Chennai Super Kings</td>\n",
       "      <td>Deccan Chargers</td>\n",
       "      <td>142.0</td>\n",
       "      <td>104.0</td>\n",
       "    </tr>\n",
       "  </tbody>\n",
       "</table>\n",
       "<p>5 rows × 24 columns</p>\n",
       "</div>"
      ],
      "text/plain": [
       "       id  season    city        date                        team1  \\\n",
       "0  419164    2010  Mumbai  2010-04-24  Royal Challengers Bangalore   \n",
       "1  419131    2010   Delhi  2010-03-29             Delhi Daredevils   \n",
       "2  336021    2008  Mumbai  2008-05-16               Mumbai Indians   \n",
       "3  980931    2016    Pune  2016-04-22      Rising Pune Supergiants   \n",
       "4  419163    2010  Mumbai  2010-04-22          Chennai Super Kings   \n",
       "\n",
       "                         team2              toss_winner toss_decision  \\\n",
       "0              Deccan Chargers          Deccan Chargers           bat   \n",
       "1        Kolkata Knight Riders         Delhi Daredevils           bat   \n",
       "2        Kolkata Knight Riders           Mumbai Indians         field   \n",
       "3  Royal Challengers Bangalore  Rising Pune Supergiants         field   \n",
       "4              Deccan Chargers      Chennai Super Kings           bat   \n",
       "\n",
       "                        winner eliminator  ... overs  player_of_match  \\\n",
       "0  Royal Challengers Bangalore        NaN  ...    20         A Kumble   \n",
       "1             Delhi Daredevils        NaN  ...    20        DA Warner   \n",
       "2               Mumbai Indians        NaN  ...    20       SM Pollock   \n",
       "3  Royal Challengers Bangalore        NaN  ...    20   AB de Villiers   \n",
       "4          Chennai Super Kings        NaN  ...    20     DE Bollinger   \n",
       "\n",
       "                                     venue      umpire1     umpire2 umpire3  \\\n",
       "0               Dr DY Patil Sports Academy  RE Koertzen  SJA Taufel     NaN   \n",
       "1                         Feroz Shah Kotla    SS Hazare  SJA Taufel     NaN   \n",
       "2                         Wankhede Stadium  BR Doctrove   DJ Harper     NaN   \n",
       "3  Maharashtra Cricket Association Stadium  CB Gaffaney   VK Sharma     NaN   \n",
       "4               Dr DY Patil Sports Academy  BR Doctrove   RB Tiffin     NaN   \n",
       "\n",
       "                first_bat_team              first_bowl_team first_bat_score  \\\n",
       "0              Deccan Chargers  Royal Challengers Bangalore            82.0   \n",
       "1             Delhi Daredevils        Kolkata Knight Riders           177.0   \n",
       "2        Kolkata Knight Riders               Mumbai Indians            67.0   \n",
       "3  Royal Challengers Bangalore      Rising Pune Supergiants           185.0   \n",
       "4          Chennai Super Kings              Deccan Chargers           142.0   \n",
       "\n",
       "  second_bat_score  \n",
       "0             86.0  \n",
       "1            137.0  \n",
       "2             68.0  \n",
       "3            172.0  \n",
       "4            104.0  \n",
       "\n",
       "[5 rows x 24 columns]"
      ]
     },
     "execution_count": 9,
     "metadata": {},
     "output_type": "execute_result"
    }
   ],
   "source": [
    "data.head()"
   ]
  },
  {
   "cell_type": "code",
   "execution_count": 10,
   "metadata": {
    "scrolled": true
   },
   "outputs": [
    {
     "data": {
      "text/html": [
       "<div>\n",
       "<style scoped>\n",
       "    .dataframe tbody tr th:only-of-type {\n",
       "        vertical-align: middle;\n",
       "    }\n",
       "\n",
       "    .dataframe tbody tr th {\n",
       "        vertical-align: top;\n",
       "    }\n",
       "\n",
       "    .dataframe thead th {\n",
       "        text-align: right;\n",
       "    }\n",
       "</style>\n",
       "<table border=\"1\" class=\"dataframe\">\n",
       "  <thead>\n",
       "    <tr style=\"text-align: right;\">\n",
       "      <th></th>\n",
       "      <th>id</th>\n",
       "      <th>season</th>\n",
       "      <th>city</th>\n",
       "      <th>date</th>\n",
       "      <th>team1</th>\n",
       "      <th>team2</th>\n",
       "      <th>toss_winner</th>\n",
       "      <th>toss_decision</th>\n",
       "      <th>winner</th>\n",
       "      <th>eliminator</th>\n",
       "      <th>...</th>\n",
       "      <th>overs</th>\n",
       "      <th>player_of_match</th>\n",
       "      <th>venue</th>\n",
       "      <th>umpire1</th>\n",
       "      <th>umpire2</th>\n",
       "      <th>umpire3</th>\n",
       "      <th>first_bat_team</th>\n",
       "      <th>first_bowl_team</th>\n",
       "      <th>first_bat_score</th>\n",
       "      <th>second_bat_score</th>\n",
       "    </tr>\n",
       "  </thead>\n",
       "  <tbody>\n",
       "    <tr>\n",
       "      <th>741</th>\n",
       "      <td>1136567</td>\n",
       "      <td>2018</td>\n",
       "      <td>Hyderabad</td>\n",
       "      <td>2018-04-12</td>\n",
       "      <td>Sunrisers Hyderabad</td>\n",
       "      <td>Mumbai Indians</td>\n",
       "      <td>Sunrisers Hyderabad</td>\n",
       "      <td>field</td>\n",
       "      <td>Sunrisers Hyderabad</td>\n",
       "      <td>NaN</td>\n",
       "      <td>...</td>\n",
       "      <td>20</td>\n",
       "      <td>Rashid Khan</td>\n",
       "      <td>Rajiv Gandhi International Stadium, Uppal</td>\n",
       "      <td>NJ Llong</td>\n",
       "      <td>CK Nandan</td>\n",
       "      <td>NaN</td>\n",
       "      <td>Mumbai Indians</td>\n",
       "      <td>Sunrisers Hyderabad</td>\n",
       "      <td>147.0</td>\n",
       "      <td>151.0</td>\n",
       "    </tr>\n",
       "    <tr>\n",
       "      <th>742</th>\n",
       "      <td>392209</td>\n",
       "      <td>2009</td>\n",
       "      <td>East London</td>\n",
       "      <td>2009-05-04</td>\n",
       "      <td>Chennai Super Kings</td>\n",
       "      <td>Deccan Chargers</td>\n",
       "      <td>Chennai Super Kings</td>\n",
       "      <td>bat</td>\n",
       "      <td>Chennai Super Kings</td>\n",
       "      <td>NaN</td>\n",
       "      <td>...</td>\n",
       "      <td>20</td>\n",
       "      <td>MS Dhoni</td>\n",
       "      <td>Buffalo Park</td>\n",
       "      <td>BR Doctrove</td>\n",
       "      <td>M Erasmus</td>\n",
       "      <td>NaN</td>\n",
       "      <td>Chennai Super Kings</td>\n",
       "      <td>Deccan Chargers</td>\n",
       "      <td>178.0</td>\n",
       "      <td>100.0</td>\n",
       "    </tr>\n",
       "    <tr>\n",
       "      <th>743</th>\n",
       "      <td>336012</td>\n",
       "      <td>2008</td>\n",
       "      <td>Bangalore</td>\n",
       "      <td>2008-05-28</td>\n",
       "      <td>Royal Challengers Bangalore</td>\n",
       "      <td>Mumbai Indians</td>\n",
       "      <td>Mumbai Indians</td>\n",
       "      <td>field</td>\n",
       "      <td>Mumbai Indians</td>\n",
       "      <td>NaN</td>\n",
       "      <td>...</td>\n",
       "      <td>20</td>\n",
       "      <td>CRD Fernando</td>\n",
       "      <td>M Chinnaswamy Stadium</td>\n",
       "      <td>BF Bowden</td>\n",
       "      <td>AV Jayaprakash</td>\n",
       "      <td>NaN</td>\n",
       "      <td>Royal Challengers Bangalore</td>\n",
       "      <td>Mumbai Indians</td>\n",
       "      <td>122.0</td>\n",
       "      <td>126.0</td>\n",
       "    </tr>\n",
       "    <tr>\n",
       "      <th>744</th>\n",
       "      <td>729313</td>\n",
       "      <td>2014</td>\n",
       "      <td>NaN</td>\n",
       "      <td>2014-04-28</td>\n",
       "      <td>Kings XI Punjab</td>\n",
       "      <td>Royal Challengers Bangalore</td>\n",
       "      <td>Kings XI Punjab</td>\n",
       "      <td>field</td>\n",
       "      <td>Kings XI Punjab</td>\n",
       "      <td>NaN</td>\n",
       "      <td>...</td>\n",
       "      <td>20</td>\n",
       "      <td>Sandeep Sharma</td>\n",
       "      <td>Dubai International Cricket Stadium</td>\n",
       "      <td>BF Bowden</td>\n",
       "      <td>S Ravi</td>\n",
       "      <td>NaN</td>\n",
       "      <td>Royal Challengers Bangalore</td>\n",
       "      <td>Kings XI Punjab</td>\n",
       "      <td>124.0</td>\n",
       "      <td>127.0</td>\n",
       "    </tr>\n",
       "    <tr>\n",
       "      <th>745</th>\n",
       "      <td>419157</td>\n",
       "      <td>2010</td>\n",
       "      <td>Bangalore</td>\n",
       "      <td>2010-04-17</td>\n",
       "      <td>Royal Challengers Bangalore</td>\n",
       "      <td>Mumbai Indians</td>\n",
       "      <td>Royal Challengers Bangalore</td>\n",
       "      <td>field</td>\n",
       "      <td>Mumbai Indians</td>\n",
       "      <td>NaN</td>\n",
       "      <td>...</td>\n",
       "      <td>20</td>\n",
       "      <td>R McLaren</td>\n",
       "      <td>M Chinnaswamy Stadium</td>\n",
       "      <td>HDPK Dharmasena</td>\n",
       "      <td>SJA Taufel</td>\n",
       "      <td>NaN</td>\n",
       "      <td>Mumbai Indians</td>\n",
       "      <td>Royal Challengers Bangalore</td>\n",
       "      <td>191.0</td>\n",
       "      <td>134.0</td>\n",
       "    </tr>\n",
       "  </tbody>\n",
       "</table>\n",
       "<p>5 rows × 24 columns</p>\n",
       "</div>"
      ],
      "text/plain": [
       "          id  season         city        date                        team1  \\\n",
       "741  1136567    2018    Hyderabad  2018-04-12          Sunrisers Hyderabad   \n",
       "742   392209    2009  East London  2009-05-04          Chennai Super Kings   \n",
       "743   336012    2008    Bangalore  2008-05-28  Royal Challengers Bangalore   \n",
       "744   729313    2014          NaN  2014-04-28              Kings XI Punjab   \n",
       "745   419157    2010    Bangalore  2010-04-17  Royal Challengers Bangalore   \n",
       "\n",
       "                           team2                  toss_winner toss_decision  \\\n",
       "741               Mumbai Indians          Sunrisers Hyderabad         field   \n",
       "742              Deccan Chargers          Chennai Super Kings           bat   \n",
       "743               Mumbai Indians               Mumbai Indians         field   \n",
       "744  Royal Challengers Bangalore              Kings XI Punjab         field   \n",
       "745               Mumbai Indians  Royal Challengers Bangalore         field   \n",
       "\n",
       "                  winner eliminator  ... overs  player_of_match  \\\n",
       "741  Sunrisers Hyderabad        NaN  ...    20      Rashid Khan   \n",
       "742  Chennai Super Kings        NaN  ...    20         MS Dhoni   \n",
       "743       Mumbai Indians        NaN  ...    20     CRD Fernando   \n",
       "744      Kings XI Punjab        NaN  ...    20   Sandeep Sharma   \n",
       "745       Mumbai Indians        NaN  ...    20        R McLaren   \n",
       "\n",
       "                                         venue          umpire1  \\\n",
       "741  Rajiv Gandhi International Stadium, Uppal         NJ Llong   \n",
       "742                               Buffalo Park      BR Doctrove   \n",
       "743                      M Chinnaswamy Stadium        BF Bowden   \n",
       "744        Dubai International Cricket Stadium        BF Bowden   \n",
       "745                      M Chinnaswamy Stadium  HDPK Dharmasena   \n",
       "\n",
       "            umpire2 umpire3               first_bat_team  \\\n",
       "741       CK Nandan     NaN               Mumbai Indians   \n",
       "742       M Erasmus     NaN          Chennai Super Kings   \n",
       "743  AV Jayaprakash     NaN  Royal Challengers Bangalore   \n",
       "744          S Ravi     NaN  Royal Challengers Bangalore   \n",
       "745      SJA Taufel     NaN               Mumbai Indians   \n",
       "\n",
       "                 first_bowl_team first_bat_score second_bat_score  \n",
       "741          Sunrisers Hyderabad           147.0            151.0  \n",
       "742              Deccan Chargers           178.0            100.0  \n",
       "743               Mumbai Indians           122.0            126.0  \n",
       "744              Kings XI Punjab           124.0            127.0  \n",
       "745  Royal Challengers Bangalore           191.0            134.0  \n",
       "\n",
       "[5 rows x 24 columns]"
      ]
     },
     "execution_count": 10,
     "metadata": {},
     "output_type": "execute_result"
    }
   ],
   "source": [
    "data.tail()"
   ]
  },
  {
   "cell_type": "markdown",
   "metadata": {},
   "source": [
    "### Here in describe function we get certain stastical values like count,mean standard deviation,minimum and maximum values etc....."
   ]
  },
  {
   "cell_type": "code",
   "execution_count": 11,
   "metadata": {},
   "outputs": [
    {
     "data": {
      "text/html": [
       "<div>\n",
       "<style scoped>\n",
       "    .dataframe tbody tr th:only-of-type {\n",
       "        vertical-align: middle;\n",
       "    }\n",
       "\n",
       "    .dataframe tbody tr th {\n",
       "        vertical-align: top;\n",
       "    }\n",
       "\n",
       "    .dataframe thead th {\n",
       "        text-align: right;\n",
       "    }\n",
       "</style>\n",
       "<table border=\"1\" class=\"dataframe\">\n",
       "  <thead>\n",
       "    <tr style=\"text-align: right;\">\n",
       "      <th></th>\n",
       "      <th>id</th>\n",
       "      <th>season</th>\n",
       "      <th>win_by_runs</th>\n",
       "      <th>win_by_wickets</th>\n",
       "      <th>overs</th>\n",
       "      <th>first_bat_score</th>\n",
       "      <th>second_bat_score</th>\n",
       "    </tr>\n",
       "  </thead>\n",
       "  <tbody>\n",
       "    <tr>\n",
       "      <th>count</th>\n",
       "      <td>7.460000e+02</td>\n",
       "      <td>746.000000</td>\n",
       "      <td>336.000000</td>\n",
       "      <td>398.000000</td>\n",
       "      <td>746.0</td>\n",
       "      <td>746.000000</td>\n",
       "      <td>744.000000</td>\n",
       "    </tr>\n",
       "    <tr>\n",
       "      <th>mean</th>\n",
       "      <td>7.135520e+05</td>\n",
       "      <td>2013.369973</td>\n",
       "      <td>29.883929</td>\n",
       "      <td>6.251256</td>\n",
       "      <td>20.0</td>\n",
       "      <td>161.356568</td>\n",
       "      <td>147.841398</td>\n",
       "    </tr>\n",
       "    <tr>\n",
       "      <th>std</th>\n",
       "      <td>2.845419e+05</td>\n",
       "      <td>3.326906</td>\n",
       "      <td>27.276827</td>\n",
       "      <td>1.821281</td>\n",
       "      <td>0.0</td>\n",
       "      <td>30.537844</td>\n",
       "      <td>31.153406</td>\n",
       "    </tr>\n",
       "    <tr>\n",
       "      <th>min</th>\n",
       "      <td>3.359820e+05</td>\n",
       "      <td>2008.000000</td>\n",
       "      <td>1.000000</td>\n",
       "      <td>1.000000</td>\n",
       "      <td>20.0</td>\n",
       "      <td>56.000000</td>\n",
       "      <td>2.000000</td>\n",
       "    </tr>\n",
       "    <tr>\n",
       "      <th>25%</th>\n",
       "      <td>5.012092e+05</td>\n",
       "      <td>2011.000000</td>\n",
       "      <td>11.000000</td>\n",
       "      <td>5.000000</td>\n",
       "      <td>20.0</td>\n",
       "      <td>142.000000</td>\n",
       "      <td>131.000000</td>\n",
       "    </tr>\n",
       "    <tr>\n",
       "      <th>50%</th>\n",
       "      <td>5.980485e+05</td>\n",
       "      <td>2013.000000</td>\n",
       "      <td>22.000000</td>\n",
       "      <td>6.000000</td>\n",
       "      <td>20.0</td>\n",
       "      <td>163.000000</td>\n",
       "      <td>150.000000</td>\n",
       "    </tr>\n",
       "    <tr>\n",
       "      <th>75%</th>\n",
       "      <td>9.809845e+05</td>\n",
       "      <td>2016.000000</td>\n",
       "      <td>39.000000</td>\n",
       "      <td>8.000000</td>\n",
       "      <td>20.0</td>\n",
       "      <td>182.000000</td>\n",
       "      <td>169.000000</td>\n",
       "    </tr>\n",
       "    <tr>\n",
       "      <th>max</th>\n",
       "      <td>1.178425e+06</td>\n",
       "      <td>2019.000000</td>\n",
       "      <td>146.000000</td>\n",
       "      <td>10.000000</td>\n",
       "      <td>20.0</td>\n",
       "      <td>263.000000</td>\n",
       "      <td>223.000000</td>\n",
       "    </tr>\n",
       "  </tbody>\n",
       "</table>\n",
       "</div>"
      ],
      "text/plain": [
       "                 id       season  win_by_runs  win_by_wickets  overs  \\\n",
       "count  7.460000e+02   746.000000   336.000000      398.000000  746.0   \n",
       "mean   7.135520e+05  2013.369973    29.883929        6.251256   20.0   \n",
       "std    2.845419e+05     3.326906    27.276827        1.821281    0.0   \n",
       "min    3.359820e+05  2008.000000     1.000000        1.000000   20.0   \n",
       "25%    5.012092e+05  2011.000000    11.000000        5.000000   20.0   \n",
       "50%    5.980485e+05  2013.000000    22.000000        6.000000   20.0   \n",
       "75%    9.809845e+05  2016.000000    39.000000        8.000000   20.0   \n",
       "max    1.178425e+06  2019.000000   146.000000       10.000000   20.0   \n",
       "\n",
       "       first_bat_score  second_bat_score  \n",
       "count       746.000000        744.000000  \n",
       "mean        161.356568        147.841398  \n",
       "std          30.537844         31.153406  \n",
       "min          56.000000          2.000000  \n",
       "25%         142.000000        131.000000  \n",
       "50%         163.000000        150.000000  \n",
       "75%         182.000000        169.000000  \n",
       "max         263.000000        223.000000  "
      ]
     },
     "execution_count": 11,
     "metadata": {},
     "output_type": "execute_result"
    }
   ],
   "source": [
    "data.describe()"
   ]
  },
  {
   "cell_type": "markdown",
   "metadata": {},
   "source": [
    "### To get null values in each coloumn we use:"
   ]
  },
  {
   "cell_type": "code",
   "execution_count": 12,
   "metadata": {},
   "outputs": [
    {
     "data": {
      "text/plain": [
       "id                    0\n",
       "season                0\n",
       "city                 13\n",
       "date                  0\n",
       "team1                 0\n",
       "team2                 0\n",
       "toss_winner           0\n",
       "toss_decision         0\n",
       "winner               12\n",
       "eliminator          738\n",
       "dl_applied          727\n",
       "win_by_runs         410\n",
       "win_by_wickets      348\n",
       "result              734\n",
       "overs                 0\n",
       "player_of_match       4\n",
       "venue                 0\n",
       "umpire1               1\n",
       "umpire2               1\n",
       "umpire3             744\n",
       "first_bat_team        0\n",
       "first_bowl_team       0\n",
       "first_bat_score       0\n",
       "second_bat_score      2\n",
       "dtype: int64"
      ]
     },
     "execution_count": 12,
     "metadata": {},
     "output_type": "execute_result"
    }
   ],
   "source": [
    "data.isnull().sum()"
   ]
  },
  {
   "cell_type": "markdown",
   "metadata": {},
   "source": [
    "### To get different unique terms in a dataset"
   ]
  },
  {
   "cell_type": "code",
   "execution_count": 16,
   "metadata": {},
   "outputs": [
    {
     "data": {
      "text/plain": [
       "Index(['id', 'season', 'city', 'date', 'team1', 'team2', 'toss_winner',\n",
       "       'toss_decision', 'winner', 'eliminator', 'dl_applied', 'win_by_runs',\n",
       "       'win_by_wickets', 'result', 'overs', 'player_of_match', 'venue',\n",
       "       'umpire1', 'umpire2', 'umpire3', 'first_bat_team', 'first_bowl_team',\n",
       "       'first_bat_score', 'second_bat_score'],\n",
       "      dtype='object')"
      ]
     },
     "execution_count": 16,
     "metadata": {},
     "output_type": "execute_result"
    }
   ],
   "source": [
    "data.columns"
   ]
  },
  {
   "cell_type": "markdown",
   "metadata": {},
   "source": [
    "### To get different unique values in each dataset"
   ]
  },
  {
   "cell_type": "code",
   "execution_count": 18,
   "metadata": {},
   "outputs": [
    {
     "data": {
      "text/plain": [
       "id                  746\n",
       "season               12\n",
       "city                 30\n",
       "date                538\n",
       "team1                15\n",
       "team2                15\n",
       "toss_winner          15\n",
       "toss_decision         2\n",
       "winner               15\n",
       "eliminator            6\n",
       "dl_applied            1\n",
       "win_by_runs          88\n",
       "win_by_wickets       10\n",
       "result                2\n",
       "overs                 1\n",
       "player_of_match     223\n",
       "venue                36\n",
       "umpire1              49\n",
       "umpire2              48\n",
       "umpire3               2\n",
       "first_bat_team       15\n",
       "first_bowl_team      15\n",
       "first_bat_score     148\n",
       "second_bat_score    143\n",
       "dtype: int64"
      ]
     },
     "execution_count": 18,
     "metadata": {},
     "output_type": "execute_result"
    }
   ],
   "source": [
    "data.nunique()"
   ]
  },
  {
   "cell_type": "markdown",
   "metadata": {},
   "source": [
    "### corelation varies between {-1,0,1}"
   ]
  },
  {
   "cell_type": "code",
   "execution_count": 19,
   "metadata": {},
   "outputs": [
    {
     "data": {
      "text/html": [
       "<div>\n",
       "<style scoped>\n",
       "    .dataframe tbody tr th:only-of-type {\n",
       "        vertical-align: middle;\n",
       "    }\n",
       "\n",
       "    .dataframe tbody tr th {\n",
       "        vertical-align: top;\n",
       "    }\n",
       "\n",
       "    .dataframe thead th {\n",
       "        text-align: right;\n",
       "    }\n",
       "</style>\n",
       "<table border=\"1\" class=\"dataframe\">\n",
       "  <thead>\n",
       "    <tr style=\"text-align: right;\">\n",
       "      <th></th>\n",
       "      <th>id</th>\n",
       "      <th>season</th>\n",
       "      <th>win_by_runs</th>\n",
       "      <th>win_by_wickets</th>\n",
       "      <th>overs</th>\n",
       "      <th>first_bat_score</th>\n",
       "      <th>second_bat_score</th>\n",
       "    </tr>\n",
       "  </thead>\n",
       "  <tbody>\n",
       "    <tr>\n",
       "      <th>id</th>\n",
       "      <td>1.000000</td>\n",
       "      <td>0.985621</td>\n",
       "      <td>-0.028472</td>\n",
       "      <td>-0.096218</td>\n",
       "      <td>NaN</td>\n",
       "      <td>0.155936</td>\n",
       "      <td>0.159597</td>\n",
       "    </tr>\n",
       "    <tr>\n",
       "      <th>season</th>\n",
       "      <td>0.985621</td>\n",
       "      <td>1.000000</td>\n",
       "      <td>-0.023530</td>\n",
       "      <td>-0.103214</td>\n",
       "      <td>NaN</td>\n",
       "      <td>0.150042</td>\n",
       "      <td>0.151426</td>\n",
       "    </tr>\n",
       "    <tr>\n",
       "      <th>win_by_runs</th>\n",
       "      <td>-0.028472</td>\n",
       "      <td>-0.023530</td>\n",
       "      <td>1.000000</td>\n",
       "      <td>NaN</td>\n",
       "      <td>NaN</td>\n",
       "      <td>0.416221</td>\n",
       "      <td>-0.482999</td>\n",
       "    </tr>\n",
       "    <tr>\n",
       "      <th>win_by_wickets</th>\n",
       "      <td>-0.096218</td>\n",
       "      <td>-0.103214</td>\n",
       "      <td>NaN</td>\n",
       "      <td>1.000000</td>\n",
       "      <td>NaN</td>\n",
       "      <td>-0.294233</td>\n",
       "      <td>-0.307957</td>\n",
       "    </tr>\n",
       "    <tr>\n",
       "      <th>overs</th>\n",
       "      <td>NaN</td>\n",
       "      <td>NaN</td>\n",
       "      <td>NaN</td>\n",
       "      <td>NaN</td>\n",
       "      <td>NaN</td>\n",
       "      <td>NaN</td>\n",
       "      <td>NaN</td>\n",
       "    </tr>\n",
       "    <tr>\n",
       "      <th>first_bat_score</th>\n",
       "      <td>0.155936</td>\n",
       "      <td>0.150042</td>\n",
       "      <td>0.416221</td>\n",
       "      <td>-0.294233</td>\n",
       "      <td>NaN</td>\n",
       "      <td>1.000000</td>\n",
       "      <td>0.634402</td>\n",
       "    </tr>\n",
       "    <tr>\n",
       "      <th>second_bat_score</th>\n",
       "      <td>0.159597</td>\n",
       "      <td>0.151426</td>\n",
       "      <td>-0.482999</td>\n",
       "      <td>-0.307957</td>\n",
       "      <td>NaN</td>\n",
       "      <td>0.634402</td>\n",
       "      <td>1.000000</td>\n",
       "    </tr>\n",
       "  </tbody>\n",
       "</table>\n",
       "</div>"
      ],
      "text/plain": [
       "                        id    season  win_by_runs  win_by_wickets  overs  \\\n",
       "id                1.000000  0.985621    -0.028472       -0.096218    NaN   \n",
       "season            0.985621  1.000000    -0.023530       -0.103214    NaN   \n",
       "win_by_runs      -0.028472 -0.023530     1.000000             NaN    NaN   \n",
       "win_by_wickets   -0.096218 -0.103214          NaN        1.000000    NaN   \n",
       "overs                  NaN       NaN          NaN             NaN    NaN   \n",
       "first_bat_score   0.155936  0.150042     0.416221       -0.294233    NaN   \n",
       "second_bat_score  0.159597  0.151426    -0.482999       -0.307957    NaN   \n",
       "\n",
       "                  first_bat_score  second_bat_score  \n",
       "id                       0.155936          0.159597  \n",
       "season                   0.150042          0.151426  \n",
       "win_by_runs              0.416221         -0.482999  \n",
       "win_by_wickets          -0.294233         -0.307957  \n",
       "overs                         NaN               NaN  \n",
       "first_bat_score          1.000000          0.634402  \n",
       "second_bat_score         0.634402          1.000000  "
      ]
     },
     "execution_count": 19,
     "metadata": {},
     "output_type": "execute_result"
    }
   ],
   "source": [
    "data.corr()"
   ]
  },
  {
   "cell_type": "code",
   "execution_count": 20,
   "metadata": {},
   "outputs": [
    {
     "data": {
      "text/plain": [
       "<matplotlib.collections.PathCollection at 0x1de1d405580>"
      ]
     },
     "execution_count": 20,
     "metadata": {},
     "output_type": "execute_result"
    },
    {
     "data": {
      "image/png": "[encoded data removed]",
      "text/plain": [
       "<Figure size 432x288 with 1 Axes>"
      ]
     },
     "metadata": {
      "needs_background": "light"
     },
     "output_type": "display_data"
    }
   ],
   "source": [
    "plt.scatter(data['first_bat_score'],data['second_bat_score'])"
   ]
  },
  {
   "cell_type": "code",
   "execution_count": 30,
   "metadata": {},
   "outputs": [
    {
     "data": {
      "text/plain": [
       "(array([  7.,  12.,  42.,  98., 176., 211., 135.,  47.,  14.,   4.]),\n",
       " array([ 56. ,  76.7,  97.4, 118.1, 138.8, 159.5, 180.2, 200.9, 221.6,\n",
       "        242.3, 263. ]),\n",
       " <BarContainer object of 10 artists>)"
      ]
     },
     "execution_count": 30,
     "metadata": {},
     "output_type": "execute_result"
    },
    {
     "data": {
      "image/png": "[encoded data removed]",
      "text/plain": [
       "<Figure size 432x288 with 1 Axes>"
      ]
     },
     "metadata": {
      "needs_background": "light"
     },
     "output_type": "display_data"
    }
   ],
   "source": [
    "plt.hist(data['first_bat_score'])"
   ]
  },
  {
   "cell_type": "code",
   "execution_count": 32,
   "metadata": {},
   "outputs": [
    {
     "data": {
      "text/plain": [
       "(array([  1.,   2.,  11.,  21.,  54., 128., 213., 197.,  95.,  22.]),\n",
       " array([  2. ,  24.1,  46.2,  68.3,  90.4, 112.5, 134.6, 156.7, 178.8,\n",
       "        200.9, 223. ]),\n",
       " <BarContainer object of 10 artists>)"
      ]
     },
     "execution_count": 32,
     "metadata": {},
     "output_type": "execute_result"
    },
    {
     "data": {
      "image/png": "[encoded data removed]",
      "text/plain": [
       "<Figure size 432x288 with 1 Axes>"
      ]
     },
     "metadata": {
      "needs_background": "light"
     },
     "output_type": "display_data"
    }
   ],
   "source": [
    "plt.hist(data['second_bat_score'],bins=10)"
   ]
  },
  {
   "cell_type": "code",
   "execution_count": 33,
   "metadata": {},
   "outputs": [
    {
     "data": {
      "text/plain": [
       "{'whiskers': [<matplotlib.lines.Line2D at 0x1de1ed70a00>,\n",
       "  <matplotlib.lines.Line2D at 0x1de1ed70d60>],\n",
       " 'caps': [<matplotlib.lines.Line2D at 0x1de1ed7d100>,\n",
       "  <matplotlib.lines.Line2D at 0x1de1ed7d460>],\n",
       " 'boxes': [<matplotlib.lines.Line2D at 0x1de1ed706a0>],\n",
       " 'medians': [<matplotlib.lines.Line2D at 0x1de1ed7d7c0>],\n",
       " 'fliers': [<matplotlib.lines.Line2D at 0x1de1ed7db20>],\n",
       " 'means': []}"
      ]
     },
     "execution_count": 33,
     "metadata": {},
     "output_type": "execute_result"
    },
    {
     "data": {
      "image/png": "[encoded data removed]",
      "text/plain": [
       "<Figure size 432x288 with 1 Axes>"
      ]
     },
     "metadata": {
      "needs_background": "light"
     },
     "output_type": "display_data"
    }
   ],
   "source": [
    "plt.boxplot(data['first_bat_score'])"
   ]
  },
  {
   "cell_type": "code",
   "execution_count": 38,
   "metadata": {},
   "outputs": [
    {
     "data": {
      "text/plain": [
       "{'whiskers': [<matplotlib.lines.Line2D at 0x1de1ebf0280>,\n",
       "  <matplotlib.lines.Line2D at 0x1de1ebf0ac0>],\n",
       " 'caps': [<matplotlib.lines.Line2D at 0x1de1ebf0e20>,\n",
       "  <matplotlib.lines.Line2D at 0x1de1ebd3be0>],\n",
       " 'boxes': [<matplotlib.lines.Line2D at 0x1de1db5ce20>],\n",
       " 'medians': [<matplotlib.lines.Line2D at 0x1de1ec31280>],\n",
       " 'fliers': [<matplotlib.lines.Line2D at 0x1de1db8cee0>],\n",
       " 'means': []}"
      ]
     },
     "execution_count": 38,
     "metadata": {},
     "output_type": "execute_result"
    },
    {
     "data": {
      "image/png": "[encoded data removed]",
      "text/plain": [
       "<Figure size 432x288 with 1 Axes>"
      ]
     },
     "metadata": {
      "needs_background": "light"
     },
     "output_type": "display_data"
    }
   ],
   "source": [
    "plt.boxplot(data['season'])"
   ]
  }
 ],
 "metadata": {
  "kernelspec": {
   "display_name": "Python 3",
   "language": "python",
   "name": "python3"
  },
  "language_info": {
   "codemirror_mode": {
    "name": "ipython",
    "version": 3
   },
   "file_extension": ".py",
   "mimetype": "text/x-python",
   "name": "python",
   "nbconvert_exporter": "python",
   "pygments_lexer": "ipython3",
   "version": "3.8.5"
  }
 },
 "nbformat": 4,
 "nbformat_minor": 4
}
